{
 "cells": [
  {
   "cell_type": "markdown",
   "metadata": {},
   "source": [
    "# #1.Log In to Instagram Handle"
   ]
  },
  {
   "cell_type": "code",
   "execution_count": 5,
   "metadata": {},
   "outputs": [],
   "source": [
    "def login(user_name, pass_word):\n",
    "    username = user_name\n",
    "    password = pass_word\n",
    "    \n",
    "    wait.until(EC.visibility_of_element_located((By.TAG_NAME, 'input')))\n",
    "    login_box = driver.find_elements_by_tag_name('input')\n",
    "    \n",
    "    username_box = login_box[0]\n",
    "    password_box = login_box[1]\n",
    "    \n",
    "    username_box.send_keys(username) # passing username\n",
    "    password_box.send_keys(password) # passing password\n",
    "    \n",
    "    login_button = driver.find_elements_by_tag_name('button')[1]\n",
    "    login_button.click() # clicking login button"
   ]
  },
  {
   "cell_type": "markdown",
   "metadata": {},
   "source": [
    "# #2. Type for “food” in search bar and print all the names of the Instagram Handles that are displayed in list after typing “food”"
   ]
  },
  {
   "cell_type": "code",
   "execution_count": 6,
   "metadata": {},
   "outputs": [],
   "source": [
    "def food_handles():\n",
    "    ## Notification PoP up\n",
    "    wait.until(EC.visibility_of_element_located((By.CLASS_NAME, 'aOOlW')))\n",
    "\n",
    "    # notification permission\n",
    "    notification_denial_button = driver.find_elements_by_class_name('aOOlW')[1]\n",
    "    notification_denial_button.click()\n",
    "\n",
    "    # searching for food\n",
    "    search = 'food'\n",
    "    search_box = driver.find_element_by_class_name('XTCLo')\n",
    "    search_box.send_keys('food')\n",
    "\n",
    "    wait.until(EC.visibility_of_element_located((By.CLASS_NAME, 'Ap253')))\n",
    "    food_handle_list = driver.find_elements_by_class_name('Ap253')\n",
    "\n",
    "    # printing names of Instagram Handles after displaying in list after typing food\n",
    "    for food_handle in food_handle_list:\n",
    "        print(food_handle.get_attribute('innerHTML').strip('#'))"
   ]
  },
  {
   "cell_type": "markdown",
   "metadata": {},
   "source": [
    "# #3. Searching and Opening a profile"
   ]
  },
  {
   "cell_type": "code",
   "execution_count": 7,
   "metadata": {},
   "outputs": [],
   "source": [
    "def open_so_delhi():\n",
    "    time.sleep(5)\n",
    "    search_box = driver.find_element_by_class_name('XTCLo')\n",
    "    search_box.clear()\n",
    "    profile_to_search = \"So Delhi\"\n",
    "    search_box.send_keys(profile_to_search)\n",
    "    time.sleep(5)\n",
    "    search_box.send_keys(u'\\ue007')\n",
    "    search_box.send_keys(u'\\ue007')"
   ]
  },
  {
   "cell_type": "markdown",
   "metadata": {},
   "source": [
    "# #4 Follow/Unfollow given handle"
   ]
  },
  {
   "cell_type": "code",
   "execution_count": 8,
   "metadata": {},
   "outputs": [],
   "source": [
    "def follow():\n",
    "    wait.until(EC.visibility_of_element_located((By.CLASS_NAME, '_5f5mN')))\n",
    "    follow_unfollow_button = driver.find_element_by_class_name('_5f5mN')\n",
    "    try:\n",
    "        check = driver.find_element_by_class_name('fAR91')\n",
    "        print('Already following')\n",
    "        return\n",
    "    except:\n",
    "        follow_unfollow_button.click()\n",
    "        print('Started following sodelhi')"
   ]
  },
  {
   "cell_type": "code",
   "execution_count": 9,
   "metadata": {},
   "outputs": [],
   "source": [
    "def unfollow():\n",
    "    time.sleep(2)\n",
    "    wait = WebDriverWait(driver, 500)\n",
    "    wait.until(EC.visibility_of_element_located((By.CLASS_NAME, '_5f5mN')))\n",
    "    follow_unfollow_button = driver.find_element_by_class_name('_5f5mN')\n",
    "    try:\n",
    "        check = driver.find_element_by_class_name('fAR91')\n",
    "        follow_unfollow_button.click()\n",
    "        unfollow_confirmation = driver.find_element_by_class_name('aOOlW')\n",
    "        unfollow_confirmation.click()\n",
    "        print('Unfollowed sodelhi')\n",
    "    except:\n",
    "        print('Already unfollowed')"
   ]
  },
  {
   "cell_type": "markdown",
   "metadata": {},
   "source": [
    "# #5. Liking the top 30 posts of the ‘dilsefoodie'"
   ]
  },
  {
   "cell_type": "code",
   "execution_count": 10,
   "metadata": {},
   "outputs": [],
   "source": [
    "def disfoodie_like():\n",
    "    driver.get('https://www.instagram.com/dilsefoodie/')\n",
    "    posts = wait.until(EC.presence_of_all_elements_located((By.CLASS_NAME, '_9AhH0')))\n",
    "    posts[0].click()\n",
    "    count = 1\n",
    "    while count <= 30:\n",
    "        a = wait.until(EC.presence_of_all_elements_located((By.CLASS_NAME, 'wpO6b')))\n",
    "        button_list = driver.find_elements_by_class_name('_8-yf5')\n",
    "        for e in button_list:\n",
    "            s = str(e.get_attribute('outerHTML'))\n",
    "            if 'Like' in s and 'width=\"24\"' in s:\n",
    "                e.click()\n",
    "            elif 'Unlike' in s and 'width = \"24\"':\n",
    "                print('Post already liked')\n",
    "        next_post = driver.find_element_by_class_name('coreSpriteRightPaginationArrow')\n",
    "        next_post.click()\n",
    "        time.sleep(1.5)\n",
    "        count = count + 1"
   ]
  },
  {
   "cell_type": "markdown",
   "metadata": {},
   "source": [
    "# #6. Disliking the top 30 posts of the ‘dilsefoodie’"
   ]
  },
  {
   "cell_type": "code",
   "execution_count": 11,
   "metadata": {},
   "outputs": [],
   "source": [
    "def disfoodie_unlike():\n",
    "    driver.get('https://www.instagram.com/dilsefoodie/')\n",
    "    posts = wait.until(EC.presence_of_all_elements_located((By.CLASS_NAME, '_9AhH0')))\n",
    "    posts[0].click()\n",
    "    count = 1\n",
    "    while count <= 30:\n",
    "        a = wait.until(EC.presence_of_all_elements_located((By.CLASS_NAME, 'wpO6b')))\n",
    "        button_list = driver.find_elements_by_class_name('_8-yf5')\n",
    "        for e in button_list:\n",
    "            s = str(e.get_attribute('outerHTML'))\n",
    "            if 'Like' in s and 'width=\"24\"' in s:\n",
    "                print('Post already unliked')\n",
    "            elif 'Unlike' in s and 'width = \"24\"':\n",
    "                e.click()\n",
    "        next_post = driver.find_element_by_class_name('coreSpriteRightPaginationArrow')\n",
    "        next_post.click()\n",
    "        time.sleep(1.5)\n",
    "        count = count + 1"
   ]
  },
  {
   "cell_type": "markdown",
   "metadata": {},
   "source": [
    "# #7. Extract the usernames of the first 500 followers of ‘foodtalkindia’ and ‘sodelhi’"
   ]
  },
  {
   "cell_type": "code",
   "execution_count": 12,
   "metadata": {},
   "outputs": [],
   "source": [
    "def follower_list(userhandle, num):\n",
    "    wait = WebDriverWait(driver, 10)\n",
    "    time.sleep(1)\n",
    "    driver.get('https://www.instagram.com/' + userhandle)\n",
    "    follower_button = driver.find_element_by_partial_link_text('followers')\n",
    "    follower_button.click()\n",
    "    time.sleep(3)\n",
    "    followers = wait.until(EC.presence_of_element_located((By.CLASS_NAME, \"FPmhX\")))\n",
    "    username_f = []\n",
    "    while len(username_f) <= num:\n",
    "        user_list = driver.find_elements_by_class_name('FPmhX')\n",
    "        for user in user_list:\n",
    "            username_f.append(user.get_attribute('innerHTML'))\n",
    "            if (len(username_f) == 500):\n",
    "                break\n",
    "        scroll = driver.find_element_by_class_name('isgrP')\n",
    "        driver.execute_script(\"arguments[0].scrollTop = arguments[0].scrollHeight\", scroll)\n",
    "        time.sleep(4)\n",
    "    print('500 followers of ' + userhandle + ' is - ')\n",
    "    print()\n",
    "    print(username_f)\n",
    "    print()"
   ]
  },
  {
   "cell_type": "markdown",
   "metadata": {},
   "source": [
    "# #8. Followers of \"foodtalkindia\" whom I am following but they are not following me"
   ]
  },
  {
   "cell_type": "code",
   "execution_count": 13,
   "metadata": {},
   "outputs": [],
   "source": [
    "def get_all_followers(userhandle, text):\n",
    "    wait = WebDriverWait(driver, 10)\n",
    "    time.sleep(1)\n",
    "    driver.get('https://www.instagram.com/' + userhandle)\n",
    "    follower_button = driver.find_element_by_partial_link_text(text)\n",
    "    follower_button.click()\n",
    "    time.sleep(5)\n",
    "    followers = wait.until(EC.presence_of_element_located((By.CLASS_NAME, \"FPmhX\")))\n",
    "    username_f = []\n",
    "    user_list = list()\n",
    "    prev_len = 0\n",
    "    while True:\n",
    "        user_list = driver.find_elements_by_class_name('FPmhX')\n",
    "        curr_len = len(user_list)\n",
    "        if prev_len == curr_len:\n",
    "            break\n",
    "        prev_len = curr_len\n",
    "        scroll = driver.find_element_by_class_name('isgrP')\n",
    "        driver.execute_script(\"arguments[0].scrollTop = arguments[0].scrollHeight\", scroll)\n",
    "        time.sleep(15)\n",
    "    for user in user_list:\n",
    "        username_f.append(user.get_attribute('innerHTML'))\n",
    "    return username_f"
   ]
  },
  {
   "cell_type": "markdown",
   "metadata": {},
   "source": [
    "# #9. Check the story of ‘coding.ninjas’. "
   ]
  },
  {
   "cell_type": "code",
   "execution_count": 14,
   "metadata": {},
   "outputs": [],
   "source": [
    "def CN_Story():\n",
    "    wait = WebDriverWait(driver, 7)\n",
    "    driver.get('https://www.instagram.com/coding.ninjas/')\n",
    "    time.sleep(5)\n",
    "    prev_url = ''\n",
    "    story_button = driver.find_element_by_class_name('_6q-tv').click()\n",
    "    time.sleep(2)\n",
    "    try:\n",
    "        wait.until(EC.presence_of_all_elements_located((By.CLASS_NAME, 'B20bj')))\n",
    "        prev_url = driver.current_url\n",
    "    except:\n",
    "        print('No Story is available')\n",
    "        return\n",
    "    count = 1\n",
    "    while driver.current_url != 'https://www.instagram.com/coding.ninjas/':\n",
    "        print('Story' + str(count) + ' visiting , ' + 'story url - ' + driver.current_url)\n",
    "        while(driver.current_url == prev_url):\n",
    "            time.sleep(2)\n",
    "        prev_url = driver.current_url\n",
    "        count += 1\n",
    "    print('All Stories are visited')"
   ]
  },
  {
   "cell_type": "markdown",
   "metadata": {},
   "source": [
    "# Main"
   ]
  },
  {
   "cell_type": "code",
   "execution_count": 19,
   "metadata": {},
   "outputs": [
    {
     "name": "stdout",
     "output_type": "stream",
     "text": [
      "foodiesince96\n",
      "foodtalkindia\n",
      "foodwithfacts\n",
      "food_lunatic\n",
      "mumbaifoodie\n",
      "yourfoodlab\n",
      "food\n",
      "dilsefoodie\n",
      "iamdatingfood\n",
      "foodinsider\n",
      "foodgod\n",
      "food\n",
      "buzzfeedfood\n",
      "thewickedsoul\n",
      "foodie_incarnate\n",
      "the_foodie_bae\n",
      "dillifoodies\n",
      "food_across_borders\n",
      "the_foodie_dad\n",
      "thegreatindianfoodie\n",
      "foodporn\n",
      "foodofchennai\n",
      "food_street_india\n",
      "meghnasfoodmagic\n",
      "kashmirfoodgram\n",
      "thisisdelhi\n",
      "foodandtable\n",
      "viva_la_food\n",
      "foodofdebjani\n",
      "delhifoodguide\n",
      "foodnetwork\n",
      "salonikukreja\n",
      "the_travel_express\n",
      "foodiewithluv\n",
      "foodiesdelhite\n",
      "food_pari\n",
      "foodbloggerai\n",
      "food_belly11\n",
      "foodelhi\n",
      "fooddrinkfam\n",
      "food_gambler\n",
      "foodtaguk\n",
      "my_foodstory\n",
      "food_feels\n",
      "foodiediana\n",
      "foodatbay\n",
      "food_asunto\n",
      "pune_food_blogger\n",
      "foodwalaofficial_2020\n",
      "foodgasyumm\n",
      "dillikpakwan\n",
      "foodconnectindia\n",
      "foodiecouple_prisa\n",
      "foodmastarni\n",
      "foodhallindia\n",
      "Food Court, Ambagan, Rourkela\n"
     ]
    }
   ],
   "source": [
    "## starting session\n",
    "import time\n",
    "from selenium import webdriver\n",
    "from selenium.webdriver.common.by import By\n",
    "from selenium.webdriver.support.ui import WebDriverWait\n",
    "from selenium.webdriver.support import expected_conditions as EC\n",
    "from selenium.webdriver.common.action_chains import ActionChains\n",
    "from selenium.webdriver.common.keys import Keys\n",
    "driver = webdriver.Chrome(executable_path = r\"C:\\Users\\user\\Downloads\\web driver\\chromedriver.exe\")\n",
    "driver.get('https://www.instagram.com/')\n",
    "wait = WebDriverWait(driver, 500)\n",
    "\n",
    "## loging in Instagram\n",
    "username = 'SAMPLE USERNAME'\n",
    "password = 'SAMPLE PASSWORD'\n",
    "login(username, password)\n",
    "## turn off notification if it is on in your browser\n",
    "## Do not do anything with the notification allowance. code will perform the task\n",
    "\n",
    "food_handles()"
   ]
  },
  {
   "cell_type": "markdown",
   "metadata": {},
   "source": [
    "## RUN THE FOLLOWING FUNCTION ONE BY ONE FOR BETTER RESULT"
   ]
  },
  {
   "cell_type": "code",
   "execution_count": 20,
   "metadata": {},
   "outputs": [],
   "source": [
    "open_so_delhi()"
   ]
  },
  {
   "cell_type": "code",
   "execution_count": 23,
   "metadata": {},
   "outputs": [
    {
     "name": "stdout",
     "output_type": "stream",
     "text": [
      "Started following sodelhi\n",
      "\n",
      "Unfollowed sodelhi\n"
     ]
    }
   ],
   "source": [
    "follow()\n",
    "print()\n",
    "\n",
    "time.sleep(5)\n",
    "unfollow()"
   ]
  },
  {
   "cell_type": "code",
   "execution_count": 24,
   "metadata": {},
   "outputs": [
    {
     "name": "stdout",
     "output_type": "stream",
     "text": [
      "Post already liked\n",
      "Post already liked\n",
      "Post already liked\n",
      "\n",
      "Post already unliked\n",
      "Post already unliked\n",
      "Post already unliked\n",
      "Post already unliked\n",
      "Post already unliked\n",
      "Post already unliked\n",
      "Post already unliked\n"
     ]
    }
   ],
   "source": [
    "disfoodie_like()\n",
    "print()\n",
    "\n",
    "disfoodie_unlike()"
   ]
  },
  {
   "cell_type": "code",
   "execution_count": 25,
   "metadata": {},
   "outputs": [
    {
     "name": "stdout",
     "output_type": "stream",
     "text": [
      "500 followers of sodelhi is - \n",
      "\n",
      "['deepak_nanam', 'suzmosaaa', '_shradha_rao', 'that_cricketguy', 'aashi_chugh', 'kanishq_basoya_dellhii0001', 'mehak.dgr8', '__aakashverma', 'soindiadaily', 'shashankagg', 'jasveen.xo', 'rohitbhalla31', 'deepak_nanam', 'suzmosaaa', '_shradha_rao', 'that_cricketguy', 'aashi_chugh', 'kanishq_basoya_dellhii0001', 'mehak.dgr8', '__aakashverma', 'soindiadaily', 'shashankagg', 'jasveen.xo', 'rohitbhalla31', 'deepak_nanam', 'suzmosaaa', '_shradha_rao', 'that_cricketguy', 'aashi_chugh', 'kanishq_basoya_dellhii0001', 'mehak.dgr8', '__aakashverma', 'soindiadaily', 'shashankagg', 'jasveen.xo', 'rohitbhalla31', 'deepak_nanam', 'suzmosaaa', '_shradha_rao', 'that_cricketguy', 'aashi_chugh', 'kanishq_basoya_dellhii0001', 'mehak.dgr8', '__aakashverma', 'soindiadaily', 'shashankagg', 'jasveen.xo', 'rohitbhalla31', 'deepak_nanam', 'suzmosaaa', '_shradha_rao', 'that_cricketguy', 'aashi_chugh', 'kanishq_basoya_dellhii0001', 'mehak.dgr8', '__aakashverma', 'soindiadaily', 'shashankagg', 'jasveen.xo', 'rohitbhalla31', 'deepak_nanam', 'suzmosaaa', '_shradha_rao', 'that_cricketguy', 'aashi_chugh', 'kanishq_basoya_dellhii0001', 'mehak.dgr8', '__aakashverma', 'soindiadaily', 'shashankagg', 'jasveen.xo', 'rohitbhalla31', 'deepak_nanam', 'suzmosaaa', '_shradha_rao', 'that_cricketguy', 'aashi_chugh', 'kanishq_basoya_dellhii0001', 'mehak.dgr8', '__aakashverma', 'soindiadaily', 'shashankagg', 'jasveen.xo', 'rohitbhalla31', 'deepak_nanam', 'suzmosaaa', '_shradha_rao', 'that_cricketguy', 'aashi_chugh', 'kanishq_basoya_dellhii0001', 'mehak.dgr8', '__aakashverma', 'soindiadaily', 'shashankagg', 'jasveen.xo', 'rohitbhalla31', 'deepak_nanam', 'suzmosaaa', '_shradha_rao', 'that_cricketguy', 'aashi_chugh', 'kanishq_basoya_dellhii0001', 'mehak.dgr8', '__aakashverma', 'soindiadaily', 'shashankagg', 'jasveen.xo', 'rohitbhalla31', 'sonone9082', 'uhh.huhh', '_akshay_kumbhar', 'ridhi_kharu', 'afroman_nick', 'my.rythmic.habit', 'mishel_modi', 'agirlwithahappyface', 'deepakk__ji', 'sanjiv_poonia', 'soumipalglitters', 'ray_insanee', 'deepak_nanam', 'suzmosaaa', '_shradha_rao', 'that_cricketguy', 'aashi_chugh', 'kanishq_basoya_dellhii0001', 'mehak.dgr8', '__aakashverma', 'soindiadaily', 'shashankagg', 'jasveen.xo', 'rohitbhalla31', 'sonone9082', 'uhh.huhh', '_akshay_kumbhar', 'ridhi_kharu', 'afroman_nick', 'my.rythmic.habit', 'mishel_modi', 'agirlwithahappyface', 'deepakk__ji', 'sanjiv_poonia', 'soumipalglitters', 'ray_insanee', 'sharma.jeetu28', 'sheetal0409', '_aasthajain_', 'gaurav_08s', 'ssayal2211', 'r0gdaniel', 'kmd044045', 'vratikaushikofficial', 'tarungarg021', 'stan.ford2020', 'akshaye94_', 'tanishqabhardwaj.mua', 'deepak_nanam', 'suzmosaaa', '_shradha_rao', 'that_cricketguy', 'aashi_chugh', 'kanishq_basoya_dellhii0001', 'mehak.dgr8', '__aakashverma', 'soindiadaily', 'shashankagg', 'jasveen.xo', 'rohitbhalla31', 'sonone9082', 'uhh.huhh', '_akshay_kumbhar', 'ridhi_kharu', 'afroman_nick', 'my.rythmic.habit', 'mishel_modi', 'agirlwithahappyface', 'deepakk__ji', 'sanjiv_poonia', 'soumipalglitters', 'ray_insanee', 'sharma.jeetu28', 'sheetal0409', '_aasthajain_', 'gaurav_08s', 'ssayal2211', 'r0gdaniel', 'kmd044045', 'vratikaushikofficial', 'tarungarg021', 'stan.ford2020', 'akshaye94_', 'tanishqabhardwaj.mua', 'samuelnogueiraqjc', 'stutigoyal23', 'shiv.a3614', 'saurabhh_malik', '_shaikh_aakib_s7k', 'sonupaid36', 'janhvi_bansal20', 'doglover7209', 'amitchaudhary9449', 'physiological__facts', 'kaushik.vj_', 'thechhotudon', 'deepak_nanam', 'suzmosaaa', '_shradha_rao', 'that_cricketguy', 'aashi_chugh', 'kanishq_basoya_dellhii0001', 'mehak.dgr8', '__aakashverma', 'soindiadaily', 'shashankagg', 'jasveen.xo', 'rohitbhalla31', 'sonone9082', 'uhh.huhh', '_akshay_kumbhar', 'ridhi_kharu', 'afroman_nick', 'my.rythmic.habit', 'mishel_modi', 'agirlwithahappyface', 'deepakk__ji', 'sanjiv_poonia', 'soumipalglitters', 'ray_insanee', 'sharma.jeetu28', 'sheetal0409', '_aasthajain_', 'gaurav_08s', 'ssayal2211', 'r0gdaniel', 'kmd044045', 'vratikaushikofficial', 'tarungarg021', 'stan.ford2020', 'akshaye94_', 'tanishqabhardwaj.mua', 'samuelnogueiraqjc', 'stutigoyal23', 'shiv.a3614', 'saurabhh_malik', '_shaikh_aakib_s7k', 'sonupaid36', 'janhvi_bansal20', 'doglover7209', 'amitchaudhary9449', 'physiological__facts', 'kaushik.vj_', 'thechhotudon', '_akshadaa', 'i_m_pencil', 'imaws07', 'sofreshdelhi', 'iamanishyadav', 'adityavikkraman', 'kpriyadarshi41', 'mini._.monster', 'mehulsihmar', 'stereo.0', 'deepaksony853898', '__pixels.of.life__', 'deepak_nanam', 'suzmosaaa', '_shradha_rao', 'that_cricketguy', 'aashi_chugh', 'kanishq_basoya_dellhii0001', 'mehak.dgr8', '__aakashverma', 'soindiadaily', 'shashankagg', 'jasveen.xo', 'rohitbhalla31', 'sonone9082', 'uhh.huhh', '_akshay_kumbhar', 'ridhi_kharu', 'afroman_nick', 'my.rythmic.habit', 'mishel_modi', 'agirlwithahappyface', 'deepakk__ji', 'sanjiv_poonia', 'soumipalglitters', 'ray_insanee', 'sharma.jeetu28', 'sheetal0409', '_aasthajain_', 'gaurav_08s', 'ssayal2211', 'r0gdaniel', 'kmd044045', 'vratikaushikofficial', 'tarungarg021', 'stan.ford2020', 'akshaye94_', 'tanishqabhardwaj.mua', 'samuelnogueiraqjc', 'stutigoyal23', 'shiv.a3614', 'saurabhh_malik', '_shaikh_aakib_s7k', 'sonupaid36', 'janhvi_bansal20', 'doglover7209', 'amitchaudhary9449', 'physiological__facts', 'kaushik.vj_', 'thechhotudon', '_akshadaa', 'i_m_pencil', 'imaws07', 'sofreshdelhi', 'iamanishyadav', 'adityavikkraman', 'kpriyadarshi41', 'mini._.monster', 'mehulsihmar', 'stereo.0', 'deepaksony853898', '__pixels.of.life__', 'kumra_rohan', 'drc1390', 'gofesto', 'minhazul_______alom', 'damselondance', 't.h.e.food.destination', 'ag_editz01', 'taken_by_fooood', '_anushreejalan_', 'abig89_____', 'trishasanwal', 'tickettoindia', 'deepak_nanam', 'suzmosaaa', '_shradha_rao', 'that_cricketguy', 'aashi_chugh', 'kanishq_basoya_dellhii0001', 'mehak.dgr8', '__aakashverma', 'soindiadaily', 'shashankagg', 'jasveen.xo', 'rohitbhalla31', 'sonone9082', 'uhh.huhh', '_akshay_kumbhar', 'ridhi_kharu', 'afroman_nick', 'my.rythmic.habit', 'mishel_modi', 'agirlwithahappyface', 'deepakk__ji', 'sanjiv_poonia', 'soumipalglitters', 'ray_insanee', 'sharma.jeetu28', 'sheetal0409', '_aasthajain_', 'gaurav_08s', 'ssayal2211', 'r0gdaniel', 'kmd044045', 'vratikaushikofficial', 'tarungarg021', 'stan.ford2020', 'akshaye94_', 'tanishqabhardwaj.mua', 'samuelnogueiraqjc', 'stutigoyal23', 'shiv.a3614', 'saurabhh_malik', '_shaikh_aakib_s7k', 'sonupaid36', 'janhvi_bansal20', 'doglover7209', 'amitchaudhary9449', 'physiological__facts', 'kaushik.vj_', 'thechhotudon', '_akshadaa', 'i_m_pencil', 'imaws07', 'sofreshdelhi', 'iamanishyadav', 'adityavikkraman', 'kpriyadarshi41', 'mini._.monster', 'mehulsihmar', 'stereo.0', 'deepaksony853898', '__pixels.of.life__', 'kumra_rohan', 'drc1390', 'gofesto', 'minhazul_______alom', 'damselondance', 't.h.e.food.destination', 'ag_editz01', 'taken_by_fooood', '_anushreejalan_', 'abig89_____', 'trishasanwal', 'tickettoindia', 'hibuku2019', 'manishkaumar90000', 'bsmriti', 'saksham.jainnnn', 'salonisharma15', 'exploringondates', 'swaadelicious', 'misha_mathai', 'sahibsingh01', 'notes_by_harsh', 'tour_decuisine', '_shivam_pandit_007', 'deepak_nanam', 'suzmosaaa', '_shradha_rao', 'that_cricketguy', 'aashi_chugh', 'kanishq_basoya_dellhii0001', 'mehak.dgr8', '__aakashverma', 'soindiadaily', 'shashankagg', 'jasveen.xo', 'rohitbhalla31', 'sonone9082', 'uhh.huhh', '_akshay_kumbhar', 'ridhi_kharu', 'afroman_nick', 'my.rythmic.habit', 'mishel_modi', 'agirlwithahappyface', 'deepakk__ji', 'sanjiv_poonia', 'soumipalglitters', 'ray_insanee', 'sharma.jeetu28', 'sheetal0409', '_aasthajain_', 'gaurav_08s', 'ssayal2211', 'r0gdaniel', 'kmd044045', 'vratikaushikofficial', 'tarungarg021', 'stan.ford2020', 'akshaye94_', 'tanishqabhardwaj.mua', 'samuelnogueiraqjc', 'stutigoyal23', 'shiv.a3614', 'saurabhh_malik', '_shaikh_aakib_s7k', 'sonupaid36', 'janhvi_bansal20', 'doglover7209', 'amitchaudhary9449', 'physiological__facts', 'kaushik.vj_', 'thechhotudon', '_akshadaa', 'i_m_pencil', 'imaws07', 'sofreshdelhi', 'iamanishyadav', 'adityavikkraman', 'kpriyadarshi41', 'mini._.monster', 'mehulsihmar', 'stereo.0', 'deepaksony853898', '__pixels.of.life__', 'kumra_rohan', 'drc1390', 'gofesto', 'minhazul_______alom', 'damselondance', 't.h.e.food.destination', 'ag_editz01', 'taken_by_fooood', '_anushreejalan_', 'abig89_____', 'trishasanwal', 'tickettoindia', 'hibuku2019', 'manishkaumar90000', 'bsmriti', 'saksham.jainnnn', 'salonisharma15', 'exploringondates', 'swaadelicious', 'misha_mathai', 'deepak_nanam', 'suzmosaaa', '_shradha_rao', 'that_cricketguy', 'aashi_chugh', 'kanishq_basoya_dellhii0001', 'mehak.dgr8', '__aakashverma', 'soindiadaily', 'shashankagg', 'jasveen.xo', 'rohitbhalla31', 'sonone9082', 'uhh.huhh', '_akshay_kumbhar', 'ridhi_kharu', 'afroman_nick', 'my.rythmic.habit', 'mishel_modi', 'agirlwithahappyface', 'deepakk__ji', 'sanjiv_poonia', 'soumipalglitters', 'ray_insanee', 'sharma.jeetu28', 'sheetal0409', '_aasthajain_', 'gaurav_08s', 'ssayal2211', 'r0gdaniel', 'kmd044045', 'vratikaushikofficial', 'tarungarg021', 'stan.ford2020', 'akshaye94_', 'tanishqabhardwaj.mua', 'samuelnogueiraqjc', 'stutigoyal23', 'shiv.a3614', 'saurabhh_malik', '_shaikh_aakib_s7k', 'sonupaid36', 'janhvi_bansal20', 'doglover7209', 'amitchaudhary9449', 'physiological__facts', 'kaushik.vj_', 'thechhotudon', '_akshadaa', 'i_m_pencil', 'imaws07', 'sofreshdelhi', 'iamanishyadav', 'adityavikkraman', 'kpriyadarshi41', 'mini._.monster', 'mehulsihmar', 'stereo.0', 'deepaksony853898', '__pixels.of.life__', 'kumra_rohan', 'drc1390', 'gofesto', 'minhazul_______alom', 'damselondance', 't.h.e.food.destination', 'ag_editz01', 'taken_by_fooood', '_anushreejalan_', 'abig89_____', 'trishasanwal', 'tickettoindia', 'hibuku2019', 'manishkaumar90000', 'bsmriti', 'saksham.jainnnn', 'salonisharma15', 'exploringondates', 'swaadelicious', 'misha_mathai', 'sahibsingh01', 'notes_by_harsh', 'tour_decuisine', '_shivam_pandit_007', 'divyanswho', 'fouziasardarqasim', 'meenalgoyal_', 'moder.nquotes', 'vineet_gupta97', 'anshugarg3408', 'anish_4_7', 'jyotiranjan_mohanty', '123456gourav', 'mansigoel3007', 'shaillydhaaniya', 'ayushigoel.id', 'kavitarajput6950', 'ashimagupta884', 'harmanjot__singh', 'savoursbychan', 'ojasviprasad', 'laiba.in', 'swatieesharma', '__aarushiiii', 'slowdanceinginthedark', 'averageabhay', 'kabiitaraov13', 's.i.d_gupta']\n",
      "\n"
     ]
    },
    {
     "name": "stdout",
     "output_type": "stream",
     "text": [
      "500 followers of foodtalkindia is - \n",
      "\n",
      "['mr._som_yh', '__safar.nama__', 'thakurshubhendupritam', 'kitchens_of_mumbai', 'lavyahuja', 'priya_dhage05', 'hukam_ka_a1', 'pearlicious_20', 'allaginikhil', 'rehan8055khan', 'sona.li4948', 'smrithisomanath', 'mr._som_yh', '__safar.nama__', 'thakurshubhendupritam', 'kitchens_of_mumbai', 'lavyahuja', 'priya_dhage05', 'hukam_ka_a1', 'pearlicious_20', 'allaginikhil', 'rehan8055khan', 'sona.li4948', 'smrithisomanath', 'mr._som_yh', '__safar.nama__', 'thakurshubhendupritam', 'kitchens_of_mumbai', 'lavyahuja', 'priya_dhage05', 'hukam_ka_a1', 'pearlicious_20', 'allaginikhil', 'rehan8055khan', 'sona.li4948', 'smrithisomanath', 'mr._som_yh', '__safar.nama__', 'thakurshubhendupritam', 'kitchens_of_mumbai', 'lavyahuja', 'priya_dhage05', 'hukam_ka_a1', 'pearlicious_20', 'allaginikhil', 'rehan8055khan', 'sona.li4948', 'smrithisomanath', 'mr._som_yh', '__safar.nama__', 'thakurshubhendupritam', 'kitchens_of_mumbai', 'lavyahuja', 'priya_dhage05', 'hukam_ka_a1', 'pearlicious_20', 'allaginikhil', 'rehan8055khan', 'sona.li4948', 'smrithisomanath', 'mr._som_yh', '__safar.nama__', 'thakurshubhendupritam', 'kitchens_of_mumbai', 'lavyahuja', 'priya_dhage05', 'hukam_ka_a1', 'pearlicious_20', 'allaginikhil', 'rehan8055khan', 'sona.li4948', 'smrithisomanath', 'mr._som_yh', '__safar.nama__', 'thakurshubhendupritam', 'kitchens_of_mumbai', 'lavyahuja', 'priya_dhage05', 'hukam_ka_a1', 'pearlicious_20', 'allaginikhil', 'rehan8055khan', 'sona.li4948', 'smrithisomanath', 'mr._som_yh', '__safar.nama__', 'thakurshubhendupritam', 'kitchens_of_mumbai', 'lavyahuja', 'priya_dhage05', 'hukam_ka_a1', 'pearlicious_20', 'allaginikhil', 'rehan8055khan', 'sona.li4948', 'smrithisomanath', 'mr._som_yh', '__safar.nama__', 'thakurshubhendupritam', 'kitchens_of_mumbai', 'lavyahuja', 'priya_dhage05', 'hukam_ka_a1', 'pearlicious_20', 'allaginikhil', 'rehan8055khan', 'sona.li4948', 'smrithisomanath', 'mr._som_yh', '__safar.nama__', 'thakurshubhendupritam', 'kitchens_of_mumbai', 'lavyahuja', 'priya_dhage05', 'hukam_ka_a1', 'pearlicious_20', 'allaginikhil', 'rehan8055khan', 'sona.li4948', 'smrithisomanath', 'mr._som_yh', '__safar.nama__', 'thakurshubhendupritam', 'kitchens_of_mumbai', 'lavyahuja', 'priya_dhage05', 'hukam_ka_a1', 'pearlicious_20', 'allaginikhil', 'rehan8055khan', 'sona.li4948', 'smrithisomanath', 'mr._som_yh', '__safar.nama__', 'thakurshubhendupritam', 'kitchens_of_mumbai', 'lavyahuja', 'priya_dhage05', 'hukam_ka_a1', 'pearlicious_20', 'allaginikhil', 'rehan8055khan', 'sona.li4948', 'smrithisomanath', 'mr._som_yh', '__safar.nama__', 'thakurshubhendupritam', 'kitchens_of_mumbai', 'lavyahuja', 'priya_dhage05', 'hukam_ka_a1', 'pearlicious_20', 'allaginikhil', 'rehan8055khan', 'sona.li4948', 'smrithisomanath', 'mr._som_yh', '__safar.nama__', 'thakurshubhendupritam', 'kitchens_of_mumbai', 'lavyahuja', 'priya_dhage05', 'hukam_ka_a1', 'pearlicious_20', 'allaginikhil', 'rehan8055khan', 'sona.li4948', 'smrithisomanath', 'mr._som_yh', '__safar.nama__', 'thakurshubhendupritam', 'kitchens_of_mumbai', 'lavyahuja', 'priya_dhage05', 'hukam_ka_a1', 'pearlicious_20', 'allaginikhil', 'rehan8055khan', 'sona.li4948', 'smrithisomanath', 'mr._som_yh', '__safar.nama__', 'thakurshubhendupritam', 'kitchens_of_mumbai', 'lavyahuja', 'priya_dhage05', 'hukam_ka_a1', 'pearlicious_20', 'allaginikhil', 'rehan8055khan', 'sona.li4948', 'smrithisomanath', 'mr._som_yh', '__safar.nama__', 'thakurshubhendupritam', 'kitchens_of_mumbai', 'lavyahuja', 'priya_dhage05', 'hukam_ka_a1', 'pearlicious_20', 'allaginikhil', 'rehan8055khan', 'sona.li4948', 'smrithisomanath', 'mr._som_yh', '__safar.nama__', 'thakurshubhendupritam', 'kitchens_of_mumbai', 'lavyahuja', 'priya_dhage05', 'hukam_ka_a1', 'pearlicious_20', 'allaginikhil', 'rehan8055khan', 'sona.li4948', 'smrithisomanath', 'mr._som_yh', '__safar.nama__', 'thakurshubhendupritam', 'kitchens_of_mumbai', 'lavyahuja', 'priya_dhage05', 'hukam_ka_a1', 'pearlicious_20', 'allaginikhil', 'rehan8055khan', 'sona.li4948', 'smrithisomanath', 'mr._som_yh', '__safar.nama__', 'thakurshubhendupritam', 'kitchens_of_mumbai', 'lavyahuja', 'priya_dhage05', 'hukam_ka_a1', 'pearlicious_20', 'allaginikhil', 'rehan8055khan', 'sona.li4948', 'smrithisomanath', 'mr._som_yh', '__safar.nama__', 'thakurshubhendupritam', 'kitchens_of_mumbai', 'lavyahuja', 'priya_dhage05', 'hukam_ka_a1', 'pearlicious_20', 'allaginikhil', 'rehan8055khan', 'sona.li4948', 'smrithisomanath', 'mr._som_yh', '__safar.nama__', 'thakurshubhendupritam', 'kitchens_of_mumbai', 'lavyahuja', 'priya_dhage05', 'hukam_ka_a1', 'pearlicious_20', 'allaginikhil', 'rehan8055khan', 'sona.li4948', 'smrithisomanath', 'mr._som_yh', '__safar.nama__', 'thakurshubhendupritam', 'kitchens_of_mumbai', 'lavyahuja', 'priya_dhage05', 'hukam_ka_a1', 'pearlicious_20', 'allaginikhil', 'rehan8055khan', 'sona.li4948', 'smrithisomanath', 'mr._som_yh', '__safar.nama__', 'thakurshubhendupritam', 'kitchens_of_mumbai', 'lavyahuja', 'priya_dhage05', 'hukam_ka_a1', 'pearlicious_20', 'allaginikhil', 'rehan8055khan', 'sona.li4948', 'smrithisomanath', 'mr._som_yh', '__safar.nama__', 'thakurshubhendupritam', 'kitchens_of_mumbai', 'lavyahuja', 'priya_dhage05', 'hukam_ka_a1', 'pearlicious_20', 'allaginikhil', 'rehan8055khan', 'sona.li4948', 'smrithisomanath', 'mr._som_yh', '__safar.nama__', 'thakurshubhendupritam', 'kitchens_of_mumbai', 'lavyahuja', 'priya_dhage05', 'hukam_ka_a1', 'pearlicious_20', 'allaginikhil', 'rehan8055khan', 'sona.li4948', 'smrithisomanath', 'mr._som_yh', '__safar.nama__', 'thakurshubhendupritam', 'kitchens_of_mumbai', 'lavyahuja', 'priya_dhage05', 'hukam_ka_a1', 'pearlicious_20', 'allaginikhil', 'rehan8055khan', 'sona.li4948', 'smrithisomanath', 'mr._som_yh', '__safar.nama__', 'thakurshubhendupritam', 'kitchens_of_mumbai', 'lavyahuja', 'priya_dhage05', 'hukam_ka_a1', 'pearlicious_20', 'allaginikhil', 'rehan8055khan', 'sona.li4948', 'smrithisomanath', 'mr._som_yh', '__safar.nama__', 'thakurshubhendupritam', 'kitchens_of_mumbai', 'lavyahuja', 'priya_dhage05', 'hukam_ka_a1', 'pearlicious_20', 'allaginikhil', 'rehan8055khan', 'sona.li4948', 'smrithisomanath', 'mr._som_yh', '__safar.nama__', 'thakurshubhendupritam', 'kitchens_of_mumbai', 'lavyahuja', 'priya_dhage05', 'hukam_ka_a1', 'pearlicious_20', 'allaginikhil', 'rehan8055khan', 'sona.li4948', 'smrithisomanath', 'mr._som_yh', '__safar.nama__', 'thakurshubhendupritam', 'kitchens_of_mumbai', 'lavyahuja', 'priya_dhage05', 'hukam_ka_a1', 'pearlicious_20', 'allaginikhil', 'rehan8055khan', 'sona.li4948', 'smrithisomanath', 'mr._som_yh', '__safar.nama__', 'thakurshubhendupritam', 'kitchens_of_mumbai', 'lavyahuja', 'priya_dhage05', 'hukam_ka_a1', 'pearlicious_20', 'allaginikhil', 'rehan8055khan', 'sona.li4948', 'smrithisomanath', 'mr._som_yh', '__safar.nama__', 'thakurshubhendupritam', 'kitchens_of_mumbai', 'lavyahuja', 'priya_dhage05', 'hukam_ka_a1', 'pearlicious_20', 'allaginikhil', 'rehan8055khan', 'sona.li4948', 'smrithisomanath', 'mr._som_yh', '__safar.nama__', 'thakurshubhendupritam', 'kitchens_of_mumbai', 'lavyahuja', 'priya_dhage05', 'hukam_ka_a1', 'pearlicious_20', 'allaginikhil', 'rehan8055khan', 'sona.li4948', 'smrithisomanath', 'mr._som_yh', '__safar.nama__', 'thakurshubhendupritam', 'kitchens_of_mumbai', 'lavyahuja', 'priya_dhage05', 'hukam_ka_a1', 'pearlicious_20', 'allaginikhil', 'rehan8055khan', 'sona.li4948', 'smrithisomanath', 'mr._som_yh', '__safar.nama__', 'thakurshubhendupritam', 'kitchens_of_mumbai', 'lavyahuja', 'priya_dhage05', 'hukam_ka_a1', 'pearlicious_20', 'allaginikhil', 'rehan8055khan', 'sona.li4948', 'smrithisomanath', 'mr._som_yh', '__safar.nama__', 'thakurshubhendupritam', 'kitchens_of_mumbai', 'lavyahuja', 'priya_dhage05', 'hukam_ka_a1', 'pearlicious_20', 'allaginikhil', 'rehan8055khan', 'sona.li4948', 'smrithisomanath', 'mr._som_yh', '__safar.nama__', 'thakurshubhendupritam', 'kitchens_of_mumbai', 'lavyahuja', 'priya_dhage05', 'hukam_ka_a1', 'pearlicious_20', 'allaginikhil', 'rehan8055khan', 'sona.li4948', 'smrithisomanath', 'mr._som_yh', '__safar.nama__', 'thakurshubhendupritam', 'kitchens_of_mumbai', 'lavyahuja', 'priya_dhage05', 'hukam_ka_a1', 'pearlicious_20', 'allaginikhil', 'rehan8055khan', 'sona.li4948', 'smrithisomanath', 'mr._som_yh', '__safar.nama__', 'thakurshubhendupritam', 'kitchens_of_mumbai', 'lavyahuja', 'priya_dhage05', 'hukam_ka_a1', 'pearlicious_20', 'allaginikhil', 'rehan8055khan', 'sona.li4948', 'smrithisomanath', 'mr._som_yh', '__safar.nama__', 'thakurshubhendupritam', 'kitchens_of_mumbai', 'lavyahuja', 'priya_dhage05', 'hukam_ka_a1', 'pearlicious_20', 'allaginikhil', 'rehan8055khan', 'sona.li4948', 'smrithisomanath', 'mr._som_yh', '__safar.nama__', 'thakurshubhendupritam', 'kitchens_of_mumbai', 'lavyahuja', 'priya_dhage05', 'hukam_ka_a1', 'pearlicious_20', 'mr._som_yh', '__safar.nama__', 'thakurshubhendupritam', 'kitchens_of_mumbai', 'lavyahuja', 'priya_dhage05', 'hukam_ka_a1', 'pearlicious_20', 'allaginikhil', 'rehan8055khan', 'sona.li4948', 'smrithisomanath']\n",
      "\n"
     ]
    }
   ],
   "source": [
    "follower_list('sodelhi', 500)\n",
    "follower_list('foodtalkindia', 500)"
   ]
  },
  {
   "cell_type": "code",
   "execution_count": 31,
   "metadata": {},
   "outputs": [
    {
     "name": "stdout",
     "output_type": "stream",
     "text": [
      "\n",
      "All the followers of \"foodtalkindia\" that I am following but those who don’t follow me\n",
      "bombaiboi , h.imanshu_052 , kitchendelights2020 , \n"
     ]
    }
   ],
   "source": [
    "# This will take a little time as we need all the user followers following foodtalkindia........\n",
    "foodtalkindia_followers = get_all_followers('foodtalkindia', 'followers')\n",
    "my_followers = get_all_followers(username, 'followers')\n",
    "my_following = get_all_followers(username, 'following')\n",
    "\n",
    "print('\\nAll the followers of \"foodtalkindia\" that I am following but those who don’t follow me')\n",
    "for user in foodtalkindia_followers:\n",
    "    if user in my_following and user not in my_followers:\n",
    "        print(user, end = ' , ')\n",
    "print()"
   ]
  },
  {
   "cell_type": "code",
   "execution_count": 34,
   "metadata": {},
   "outputs": [
    {
     "name": "stdout",
     "output_type": "stream",
     "text": [
      "Story1 visiting , story url - https://www.instagram.com/stories/coding.ninjas/2314545822181815051/\n",
      "All Stories are visited\n"
     ]
    }
   ],
   "source": [
    "CN_Story()"
   ]
  },
  {
   "cell_type": "code",
   "execution_count": null,
   "metadata": {},
   "outputs": [],
   "source": []
  },
  {
   "cell_type": "code",
   "execution_count": null,
   "metadata": {},
   "outputs": [],
   "source": []
  }
 ],
 "metadata": {
  "kernelspec": {
   "display_name": "Python 3",
   "language": "python",
   "name": "python3"
  },
  "language_info": {
   "codemirror_mode": {
    "name": "ipython",
    "version": 3
   },
   "file_extension": ".py",
   "mimetype": "text/x-python",
   "name": "python",
   "nbconvert_exporter": "python",
   "pygments_lexer": "ipython3",
   "version": "3.7.6"
  }
 },
 "nbformat": 4,
 "nbformat_minor": 2
}
