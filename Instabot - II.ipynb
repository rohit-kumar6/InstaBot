{
 "cells": [
  {
   "cell_type": "markdown",
   "metadata": {},
   "source": [
    "# #1. Login to instagram handle"
   ]
  },
  {
   "cell_type": "code",
   "execution_count": 1,
   "metadata": {},
   "outputs": [],
   "source": [
    "def login(user_name, pass_word):\n",
    "    username = user_name\n",
    "    password = pass_word\n",
    "    \n",
    "    wait.until(EC.visibility_of_element_located((By.TAG_NAME, 'input')))\n",
    "    login_box = driver.find_elements_by_tag_name('input')\n",
    "    username_box = login_box[0]\n",
    "    password_box = login_box[1]\n",
    "    \n",
    "    username_box.send_keys(username) # passing username\n",
    "    password_box.send_keys(password) # passing password\n",
    "    \n",
    "    login_button = driver.find_elements_by_tag_name('button')[1]\n",
    "    login_button.click() # clicking login button"
   ]
  },
  {
   "cell_type": "markdown",
   "metadata": {},
   "source": [
    "# #2. List of food handles"
   ]
  },
  {
   "cell_type": "code",
   "execution_count": 2,
   "metadata": {},
   "outputs": [],
   "source": [
    "def food_Handles():\n",
    "    ## Notification PoP up\n",
    "    wait.until(EC.visibility_of_element_located((By.CLASS_NAME, 'aOOlW')))\n",
    "    \n",
    "    # notification permission\n",
    "    notification_denial_button = driver.find_elements_by_class_name('aOOlW')[1]\n",
    "    notification_denial_button.click()\n",
    "\n",
    "    # searching for food\n",
    "    search = 'food'\n",
    "    search_box = driver.find_element_by_class_name('XTCLo')\n",
    "    search_box.send_keys('food')\n",
    "\n",
    "    wait.until(EC.visibility_of_element_located((By.CLASS_NAME, 'Ap253')))\n",
    "    food_handle_list = driver.find_elements_by_class_name('Ap253')\n",
    "\n",
    "    # printing names of Instagram Handles after displaying in list after typing food\n",
    "    food_handles_list = list()\n",
    "    for food_handle in food_handle_list:\n",
    "        food_handles_list.append(food_handle.get_attribute('innerHTML').strip('#'))\n",
    "    return food_handles_list"
   ]
  },
  {
   "cell_type": "markdown",
   "metadata": {},
   "source": [
    "# #3. Top 5 food handles based upon followers"
   ]
  },
  {
   "cell_type": "code",
   "execution_count": 3,
   "metadata": {},
   "outputs": [],
   "source": [
    "def top_5(FoodHandleList, follower_num_list):\n",
    "    food_handle_dic = dict()\n",
    "    baseURL = 'https://www.instagram.com/'\n",
    "    \n",
    "    for foodHandle in FoodHandleList[ : 10]:\n",
    "        URL = baseURL + foodHandle + '/'\n",
    "        driver.get(URL)\n",
    "        dataOfHandle = driver.find_elements_by_class_name('g47SY')\n",
    "        follower_nums = dataOfHandle[1].get_attribute('title')\n",
    "        if ',' in follower_nums:\n",
    "            temp = follower_nums.split(',')\n",
    "            follower_nums = temp[0].strip() + temp[1].strip()\n",
    "        else:\n",
    "            follower_nums = follower_nums.strip()\n",
    "        food_handle_dic[foodHandle] = int(follower_nums)\n",
    "        follower_num_list.append(int(follower_nums))\n",
    "    follower_num_list.sort()\n",
    "    \n",
    "    print('Top 5 Food Handles based upon number of followers : ')\n",
    "    return food_handle_dic"
   ]
  },
  {
   "cell_type": "markdown",
   "metadata": {},
   "source": [
    "# #4. Find the number of posts these handles have done in the previous 3 days"
   ]
  },
  {
   "cell_type": "code",
   "execution_count": 12,
   "metadata": {},
   "outputs": [],
   "source": [
    "def past_three_posts(handle):\n",
    "    driver.get('https://www.instagram.com/' + handle + '/')\n",
    "    posts = wait.until(EC.presence_of_all_elements_located((By.CLASS_NAME, '_9AhH0')))\n",
    "    \n",
    "    post_num = 0\n",
    "    posts[post_num].click()\n",
    "    while True:\n",
    "        time.sleep(5)\n",
    "        wait.until(EC.presence_of_all_elements_located((By.CLASS_NAME, '_1o9PC')))\n",
    "        t = driver.find_element_by_class_name('_1o9PC')\n",
    "        t = t.get_attribute('innerHTML')\n",
    "        if ('hour' in t) or ('minute' in t) or ('second' in t) or (t == '1 day ago') or (t == '2 days ago') or (t == '3 days ago'):\n",
    "            post_num += 1\n",
    "            next_post = driver.find_element_by_class_name('coreSpriteRightPaginationArrow')\n",
    "            next_post.click()\n",
    "        else:\n",
    "            break\n",
    "    \n",
    "    print(handle, \" : Total Posts : \" , post_num)\n",
    "    return post_num"
   ]
  },
  {
   "cell_type": "markdown",
   "metadata": {},
   "source": [
    "# #5. Depict this information using a suitable graph."
   ]
  },
  {
   "cell_type": "code",
   "execution_count": 13,
   "metadata": {},
   "outputs": [],
   "source": [
    "def top_5_analysis(food_handles, food_handle_post_count):\n",
    "    plt.scatter(food_handles, food_handle_post_count, s = [follower_num_list[i] for i in range(4, -1, -1)] , c = np.arange(5), edgecolor = 'r')\n",
    "    plt.xlabel('Food Handle')\n",
    "    plt.ylabel('Number Of Posts for past 3 days')\n",
    "    plt.title('Food Handle Vs Posts, Bubble size represnts followers')\n",
    "    plt.xticks(rotation = 90)\n",
    "    plt.show()\n",
    "    return food_handles"
   ]
  },
  {
   "cell_type": "markdown",
   "metadata": {},
   "source": [
    "# #6. Most frequent hashtags"
   ]
  },
  {
   "cell_type": "code",
   "execution_count": 14,
   "metadata": {},
   "outputs": [],
   "source": [
    "def most_frequent_words(top_5_handles):\n",
    "    word_list = list()\n",
    "    for handle in top_5_handles:\n",
    "        driver.get('https://www.instagram.com/' + handle + '/')\n",
    "        time.sleep(7)\n",
    "        posts = wait.until(EC.presence_of_all_elements_located((By.CLASS_NAME, '_9AhH0')))\n",
    "        posts[0].click()\n",
    "        count = 0\n",
    "        while count <= 2:\n",
    "            text_list = driver.find_elements_by_class_name('xil3i')\n",
    "            for text in text_list:\n",
    "                word_list.append(text.get_attribute('innerHTML').strip('#'))\n",
    "            count += 1\n",
    "            next_post = driver.find_element_by_class_name('coreSpriteRightPaginationArrow')\n",
    "            next_post.click()\n",
    "            time.sleep(6)\n",
    "    return word_list"
   ]
  },
  {
   "cell_type": "markdown",
   "metadata": {},
   "source": [
    "# #7. Create CSV file"
   ]
  },
  {
   "cell_type": "code",
   "execution_count": 15,
   "metadata": {},
   "outputs": [],
   "source": [
    "def create_csv(word_list):\n",
    "    dic = dict()\n",
    "    for i in range(len(word_list)):\n",
    "        word = word_list[i]\n",
    "        for words in word_list:\n",
    "            if word in words:\n",
    "                dic[word] = dic.get(word, 0) + 1\n",
    "    word = []\n",
    "    freq = []\n",
    "    sorted_dic = sorted(dic.items(), key = lambda key : key[1])\n",
    "    for e in sorted_dic:\n",
    "        word.append(e[0])\n",
    "        freq.append(e[1])\n",
    "    df_list = list()\n",
    "    for i in range(len(word)):\n",
    "        df_list.append([word[i], freq[i]])\n",
    "    df = pd.DataFrame(df_list, columns = ['WORDS' , 'FREQUENCY'])\n",
    "    df.to_csv('Word_file.csv')"
   ]
  },
  {
   "cell_type": "markdown",
   "metadata": {},
   "source": [
    "# #8. Most popular hashtags"
   ]
  },
  {
   "cell_type": "code",
   "execution_count": 21,
   "metadata": {},
   "outputs": [],
   "source": [
    "def mostPopularHashtags(hashtag_list):\n",
    "    hashtag_dic = dict()\n",
    "    for tag in hashtag_list:\n",
    "        hashtag_dic[tag] = hashtag_dic.get(tag, 0) + 1\n",
    "    sorted_dic = sorted(hashtag_dic.items(), key = lambda key : key[1])\n",
    "    print(\"\\ntop 10 hashtags with frequency of use: \")\n",
    "    count = 0\n",
    "    top_hashtags = dict()\n",
    "    for i in range(len(sorted_dic) - 1, -1, -1):\n",
    "        if count == 10:\n",
    "            break\n",
    "        print(sorted_dic[i][0], \" : \", sorted_dic[i][1])\n",
    "        top_hashtags[sorted_dic[i][0]] = sorted_dic[i][1]\n",
    "        count += 1\n",
    "    return top_hashtags"
   ]
  },
  {
   "cell_type": "markdown",
   "metadata": {},
   "source": [
    "# #9. Pie chart Of top 5 hashtags"
   ]
  },
  {
   "cell_type": "code",
   "execution_count": 22,
   "metadata": {},
   "outputs": [],
   "source": [
    "def pie_chart(top_hashtags):\n",
    "    import matplotlib.pyplot as plt\n",
    "    tags = list()\n",
    "    freq = list()\n",
    "    for e in top_hashtags:\n",
    "        if len(tags) == 5:\n",
    "            break\n",
    "        tags.append(e)\n",
    "        freq.append(top_hashtags[e])\n",
    "    plt.pie(freq, labels = tags, autopct = \"%.2f%%\")\n",
    "    plt.show()"
   ]
  },
  {
   "cell_type": "markdown",
   "metadata": {},
   "source": [
    "# #7. Followers : Likes"
   ]
  },
  {
   "cell_type": "code",
   "execution_count": 23,
   "metadata": {},
   "outputs": [],
   "source": [
    "def followers_likes(handle , like_dic):\n",
    "    driver.get('https://www.instagram.com/' + handle + '/')\n",
    "    posts = wait.until(EC.presence_of_all_elements_located((By.CLASS_NAME, '_9AhH0')))\n",
    "    \n",
    "    Total_likes = 0\n",
    "    posts[0].click()\n",
    "    i = 0\n",
    "    Total_likes = 0\n",
    "    while i < 10:\n",
    "        time.sleep(5)\n",
    "        like = driver.find_elements_by_class_name('_8A5w5')\n",
    "        for e in like:\n",
    "            st = e.get_attribute('innerHTML').strip()\n",
    "            if 'like' in st:\n",
    "                like_list = st.strip('<span>').strip('like').strip().strip('</span>').split(',')\n",
    "                l = ''\n",
    "                for j in like_list:\n",
    "                    l += j\n",
    "                Total_likes += int(l)\n",
    "                i += 1\n",
    "        next_post = driver.find_element_by_class_name('coreSpriteRightPaginationArrow')\n",
    "        next_post.click()\n",
    "        \n",
    "    like_dic[handle] = Total_likes"
   ]
  },
  {
   "cell_type": "markdown",
   "metadata": {},
   "source": [
    "# #4. Main"
   ]
  },
  {
   "cell_type": "code",
   "execution_count": 24,
   "metadata": {},
   "outputs": [
    {
     "name": "stdout",
     "output_type": "stream",
     "text": [
      "Top 5 Food Handles based upon number of followers : \n",
      "mumbaifoodie  : Total Followers :  445283\n",
      "foodtalkindia  : Total Followers :  295140\n",
      "foodiesince96  : Total Followers :  245978\n",
      "iamdatingfood  : Total Followers :  208868\n",
      "food_lunatic  : Total Followers :  76589\n",
      "\n",
      "mumbaifoodie  : Total Posts :  6\n",
      "foodtalkindia  : Total Posts :  4\n",
      "foodiesince96  : Total Posts :  11\n",
      "iamdatingfood  : Total Posts :  9\n",
      "food_lunatic  : Total Posts :  11\n"
     ]
    },
    {
     "data": {
      "image/png": "[encoded data removed]",
      "text/plain": [
       "<Figure size 432x288 with 1 Axes>"
      ]
     },
     "metadata": {
      "needs_background": "light"
     },
     "output_type": "display_data"
    },
    {
     "name": "stdout",
     "output_type": "stream",
     "text": [
      "\n",
      "top 10 hashtags with frequency of use: \n",
      "foodiesince96  :  5\n",
      "quarantine  :  5\n",
      "delhifoodblogger  :  4\n",
      "delhifoodie  :  4\n",
      "food  :  4\n",
      "indianfoodbloggers  :  4\n",
      "MumbaiFoodie  :  4\n",
      "foodphotography  :  3\n",
      "foodtalkindia  :  3\n",
      "indianfoodie  :  2\n",
      "Pie chart of top_hashtags vs number of uses of these tags\n"
     ]
    },
    {
     "data": {
      "image/png": "[encoded data removed]",
      "text/plain": [
       "<Figure size 432x288 with 1 Axes>"
      ]
     },
     "metadata": {},
     "output_type": "display_data"
    },
    {
     "name": "stdout",
     "output_type": "stream",
     "text": [
      "\n",
      "Likes of the top 10 posts of the 5 handles : \n",
      "{'mumbaifoodie': 30042, 'foodtalkindia': 5587, 'foodiesince96': 31079, 'iamdatingfood': 36547, 'food_lunatic': 10544} \n",
      "\n"
     ]
    },
    {
     "data": {
      "image/png": "[encoded data removed]",
      "text/plain": [
       "<Figure size 432x288 with 1 Axes>"
      ]
     },
     "metadata": {
      "needs_background": "light"
     },
     "output_type": "display_data"
    }
   ],
   "source": [
    "import time\n",
    "import pandas as pd\n",
    "import matplotlib.pyplot as plt\n",
    "from bs4 import BeautifulSoup\n",
    "import numpy as np\n",
    "from selenium import webdriver\n",
    "from selenium.webdriver.common.by import By\n",
    "from selenium.webdriver.support.ui import WebDriverWait\n",
    "from selenium.webdriver.support import expected_conditions as EC\n",
    "\n",
    "driver = webdriver.Chrome(executable_path = r\"C:\\Users\\user\\Downloads\\web driver\\chromedriver.exe\")\n",
    "driver.get('https://www.instagram.com/')\n",
    "wait = WebDriverWait(driver, 500)\n",
    "\n",
    "## loging in Instagram\n",
    "username = 'SAMPLE USERNAME'\n",
    "password = 'SAMPLE PASSWORD'\n",
    "login(username, password)\n",
    "\n",
    "## turn off notification if it is on in your browser\n",
    "## Do not do anything with the notification allowance. code will perform the task\n",
    "\n",
    "FoodHandleList = food_Handles()\n",
    "\n",
    "follower_num_list = list()\n",
    "food_handle_dic = top_5(FoodHandleList, follower_num_list)\n",
    "\n",
    "sorted_dic = sorted(food_handle_dic.items(), key = lambda key : key[1])\n",
    "for i in range(len(sorted_dic) - 1, len(sorted_dic) - 6 , -1):\n",
    "    print(sorted_dic[i][0], \" : Total Followers : \" , sorted_dic[i][1])\n",
    "print()\n",
    "\n",
    "food_handle_post_count = list()\n",
    "food_handles = list()\n",
    "for i in range(len(sorted_dic) - 1, len(sorted_dic) - 6, -1):\n",
    "    food_handle_post_count.append(past_three_posts(sorted_dic[i][0]))\n",
    "    food_handles.append(sorted_dic[i][0])\n",
    "    \n",
    "top_5_handles = top_5_analysis(food_handles, food_handle_post_count)\n",
    "\n",
    "word_list = most_frequent_words(top_5_handles)\n",
    "\n",
    "create_csv(word_list)\n",
    "\n",
    "top_hashtags = mostPopularHashtags(word_list)\n",
    "\n",
    "print('Pie chart of top_hashtags vs number of uses of these tags')\n",
    "pie_chart(top_hashtags)\n",
    "\n",
    "like_dic = dict()\n",
    "for handle in top_5_handles:\n",
    "    followers_likes(handle , like_dic)\n",
    "    \n",
    "print('\\nLikes of the top 10 posts of the 5 handles : ')\n",
    "print(like_dic, '\\n')\n",
    "avg_like = dict()\n",
    "for e in like_dic:\n",
    "    avg_like[e] = like_dic[e]/10\n",
    "\n",
    "follower_like_ratio = dict()\n",
    "for handle in top_5_handles:\n",
    "    follower_like_ratio[handle] = food_handle_dic[handle]/avg_like[handle]\n",
    "    \n",
    "plt.bar([handle for handle in top_5_handles], [follower_like_ratio[handle] for handle in top_5_handles], \n",
    "        color = 'blue', edgecolor = 'black')\n",
    "plt.xlabel('Insta handle')\n",
    "plt.ylabel('follower : ratio')\n",
    "for handle in top_5_handles:\n",
    "    plt.text(handle, follower_like_ratio[handle] + 5, format(follower_like_ratio[handle], \".2f\"))\n",
    "plt.title('follower : ratio of top 5 handles')\n",
    "plt.xticks(rotation = 90)\n",
    "plt.show()\n",
    "driver.close()"
   ]
  },
  {
   "cell_type": "code",
   "execution_count": null,
   "metadata": {},
   "outputs": [],
   "source": []
  },
  {
   "cell_type": "code",
   "execution_count": null,
   "metadata": {},
   "outputs": [],
   "source": []
  },
  {
   "cell_type": "code",
   "execution_count": null,
   "metadata": {},
   "outputs": [],
   "source": []
  },
  {
   "cell_type": "code",
   "execution_count": null,
   "metadata": {},
   "outputs": [],
   "source": []
  }
 ],
 "metadata": {
  "kernelspec": {
   "display_name": "Python 3",
   "language": "python",
   "name": "python3"
  },
  "language_info": {
   "codemirror_mode": {
    "name": "ipython",
    "version": 3
   },
   "file_extension": ".py",
   "mimetype": "text/x-python",
   "name": "python",
   "nbconvert_exporter": "python",
   "pygments_lexer": "ipython3",
   "version": "3.7.6"
  }
 },
 "nbformat": 4,
 "nbformat_minor": 2
}
